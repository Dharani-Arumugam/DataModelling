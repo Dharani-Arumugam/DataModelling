{
 "cells": [
  {
   "cell_type": "markdown",
   "metadata": {},
   "source": [
    "# *Data Modelling with Apache Cassandra :*\n",
    "## *ETL Pipeline for Pre-Processing the files*"
   ]
  },
  {
   "cell_type": "markdown",
   "metadata": {},
   "source": [
    "#### *Import the required Python Packages*"
   ]
  },
  {
   "cell_type": "code",
   "execution_count": 152,
   "metadata": {},
   "outputs": [],
   "source": [
    "import pandas as pd\n",
    "import cassandra\n",
    "import os\n",
    "import glob\n",
    "import re\n",
    "import numpy as np\n",
    "import csv"
   ]
  },
  {
   "cell_type": "markdown",
   "metadata": {},
   "source": [
    "#### *Get the file_path of event_data:*"
   ]
  },
  {
   "cell_type": "code",
   "execution_count": 153,
   "metadata": {},
   "outputs": [
    {
     "name": "stdout",
     "output_type": "stream",
     "text": [
      "/home/dharani/Udacity/DataModelingwithApacheCassandra/event_data\n"
     ]
    }
   ],
   "source": [
    "#get the current working directory with event_data\n",
    "file_path = os.getcwd() + '/event_data'\n",
    "\n",
    "\n",
    "print(file_path)"
   ]
  },
  {
   "cell_type": "code",
   "execution_count": 154,
   "metadata": {},
   "outputs": [],
   "source": [
    "#Loop through the file_path to collect a list of files and corresponding file path\n",
    "for root, dirs, files in os.walk(file_path):\n",
    "    \n",
    "    file_path_list = glob.glob(os.path.join(root,'*'))"
   ]
  },
  {
   "cell_type": "markdown",
   "metadata": {},
   "source": [
    "#### *Processing the event_data to create a new data file to use in Apache Cassandra*"
   ]
  },
  {
   "cell_type": "code",
   "execution_count": 155,
   "metadata": {},
   "outputs": [],
   "source": [
    "# Initialising empty list of rows that will be generated from each file\n",
    "new_event_data = []\n",
    "\n",
    "for f in file_path_list:\n",
    "    with open(f, 'r', encoding='utf8', newline ='') as csvfile: \n",
    "        csvreader = csv.reader(csvfile)\n",
    "        next(csvreader)\n",
    "        for line in csvreader:\n",
    "            new_event_data.append(line)\n"
   ]
  },
  {
   "cell_type": "code",
   "execution_count": 156,
   "metadata": {},
   "outputs": [
    {
     "name": "stdout",
     "output_type": "stream",
     "text": [
      "8056\n"
     ]
    }
   ],
   "source": [
    "print(len(new_event_data))"
   ]
  },
  {
   "cell_type": "code",
   "execution_count": 199,
   "metadata": {},
   "outputs": [],
   "source": [
    "csv.register_dialect('myDialect', quoting=csv.QUOTE_ALL, skipinitialspace=True)\n",
    "\n",
    "with open('event_datafile_new.csv', 'w', encoding = 'utf8', newline='') as f:\n",
    "    writer = csv.writer(f, dialect='myDialect')\n",
    "    writer.writerow(['artist','firstName','gender','itemInSession','lastName','length',\\\n",
    "                     'level','location','sessionId','song','userId'])\n",
    "    for row in new_event_data:\n",
    "        if (row[0] == ''):\n",
    "            continue\n",
    "        writer.writerow((row[0], row[2], row[3], row[4], row[5], row[6], row[7], row[8], row[12], row[13], row[16]))\n"
   ]
  },
  {
   "cell_type": "code",
   "execution_count": 158,
   "metadata": {},
   "outputs": [
    {
     "name": "stdout",
     "output_type": "stream",
     "text": [
      "6821\n"
     ]
    }
   ],
   "source": [
    "# check the number of rows in your csv file\n",
    "with open('event_datafile_new.csv', 'r', encoding = 'utf8') as f:\n",
    "    print(sum(1 for line in f))"
   ]
  },
  {
   "cell_type": "markdown",
   "metadata": {},
   "source": [
    "## *Apache Cassandra Code :*"
   ]
  },
  {
   "cell_type": "code",
   "execution_count": 160,
   "metadata": {},
   "outputs": [],
   "source": [
    "import cassandra"
   ]
  },
  {
   "cell_type": "code",
   "execution_count": 161,
   "metadata": {},
   "outputs": [],
   "source": [
    "from cassandra.cluster import Cluster\n",
    "try: \n",
    "    cluster = Cluster(['127.0.0.1'])\n",
    "    session = cluster.connect()\n",
    "except Exception as e:\n",
    "    print(e)"
   ]
  },
  {
   "cell_type": "markdown",
   "metadata": {},
   "source": [
    "#### *Create KeySpace*"
   ]
  },
  {
   "cell_type": "code",
   "execution_count": 162,
   "metadata": {},
   "outputs": [],
   "source": [
    "try:\n",
    "    session.execute(\"\"\"\n",
    "    CREATE KEYSPACE IF NOT EXISTS udacity\n",
    "    WITH REPLICATION =\n",
    "    {'class':'SimpleStrategy','replication_factor':1}\n",
    "    \"\"\")\n",
    "except Exception as e:\n",
    "    print(e)"
   ]
  },
  {
   "cell_type": "markdown",
   "metadata": {},
   "source": [
    "#### *Set to KeySpace*"
   ]
  },
  {
   "cell_type": "code",
   "execution_count": 163,
   "metadata": {},
   "outputs": [],
   "source": [
    "try:\n",
    "    session.set_keyspace('udacity')\n",
    "except Exception as e:\n",
    "    print(e)"
   ]
  },
  {
   "cell_type": "markdown",
   "metadata": {},
   "source": [
    "#### *Query 1:  Give me the artist, song title and song's length in the music app history* \n",
    "#### *that was heard during sessionId = 338, itemInSession = 4*"
   ]
  },
  {
   "cell_type": "code",
   "execution_count": 164,
   "metadata": {},
   "outputs": [],
   "source": [
    "# Create table for query 1\n",
    "query1 = (\"\"\"\n",
    "            CREATE TABLE IF NOT EXISTS song_details\n",
    "            (session_id       INT\n",
    "            ,item_in_session  INT\n",
    "            ,artist           TEXT\n",
    "            ,song_title       TEXT\n",
    "            ,song_length      FLOAT\n",
    "            ,PRIMARY KEY(session_id, item_in_session))\n",
    "        \"\"\")\n",
    "try:\n",
    "    session.execute(query1)\n",
    "except Exception as e:\n",
    "    print(e)\n"
   ]
  },
  {
   "cell_type": "code",
   "execution_count": 165,
   "metadata": {},
   "outputs": [],
   "source": [
    "#Inserting data into song_details\n",
    "insert_query1 = (\"\"\" \n",
    "                    INSERT INTO song_details\n",
    "                        (session_id\n",
    "                        ,item_in_session\n",
    "                        ,artist\n",
    "                        ,song_title\n",
    "                        ,song_length)\n",
    "                VALUES (%s, %s, %s, %s, %s) \n",
    "                \"\"\")\n",
    "\n",
    "file = 'event_datafile_new.csv'\n",
    "\n",
    "with open(file, encoding = 'utf8') as csvfile:\n",
    "    csvreader = csv.reader(csvfile)\n",
    "    next(csvreader)\n",
    "    for line in csvreader:\n",
    "        session.execute(insert_query1, ( int(line[8]), int(line[3]), line[0], line[9], float(line[5])))"
   ]
  },
  {
   "cell_type": "code",
   "execution_count": 166,
   "metadata": {},
   "outputs": [
    {
     "name": "stdout",
     "output_type": "stream",
     "text": [
      "      artist                       song_title  song_length\n",
      "0  Faithless  Music Matters (Mark Knight Dub)   495.307312\n"
     ]
    }
   ],
   "source": [
    "#SELECT statement for Query1\n",
    "select_query1 = (\"\"\"\n",
    "                    SELECT artist\n",
    "                          ,song_title\n",
    "                          ,song_length\n",
    "                    FROM  song_details\n",
    "                    WHERE session_id      = %s\n",
    "                    AND   item_in_session = %s\n",
    "                 \"\"\")\n",
    "\n",
    "try:\n",
    "    result_set = session.execute(select_query1, (338, 4))\n",
    "    result_data = pd.DataFrame(list(result_set))\n",
    "except Exception as e:\n",
    "    print(e)\n",
    "\n",
    "print(result_data)"
   ]
  },
  {
   "cell_type": "markdown",
   "metadata": {},
   "source": [
    "#### *Query 2: Give me only the following: name of artist, song (sorted by itemInSession) and*\n",
    "#### *user (first and last name) for userid = 10, sessionid = 182*"
   ]
  },
  {
   "cell_type": "code",
   "execution_count": 167,
   "metadata": {},
   "outputs": [],
   "source": [
    "# Create table for query 2\n",
    "query2 = (\"\"\"\n",
    "            CREATE TABLE IF NOT EXISTS song_details_user\n",
    "            (user_id          INT\n",
    "            ,session_id       INT\n",
    "            ,item_in_session  INT\n",
    "            ,artist           TEXT\n",
    "            ,song_title       TEXT\n",
    "            ,user_first_name  TEXT\n",
    "            ,user_last_name   TEXT\n",
    "            ,PRIMARY KEY(user_id, session_id, item_in_session))\n",
    "        \"\"\")\n",
    "try:\n",
    "    session.execute(query2)\n",
    "except Exception as e:\n",
    "    print(e)"
   ]
  },
  {
   "cell_type": "code",
   "execution_count": 168,
   "metadata": {},
   "outputs": [],
   "source": [
    "#Inserting data into song_details\n",
    "insert_query2 = (\"\"\" \n",
    "                    INSERT INTO song_details_user\n",
    "                        (user_id\n",
    "                        ,session_id\n",
    "                        ,item_in_session\n",
    "                        ,artist\n",
    "                        ,song_title\n",
    "                        ,user_first_name\n",
    "                        ,user_last_name)\n",
    "                VALUES (%s, %s, %s, %s, %s, %s, %s) \n",
    "                \"\"\")\n",
    "\n",
    "file = 'event_datafile_new.csv'\n",
    "\n",
    "with open(file, encoding = 'utf8') as csvfile:\n",
    "    csvreader = csv.reader(csvfile)\n",
    "    next(csvreader)\n",
    "    for line in csvreader:\n",
    "        session.execute(insert_query2,(int(line[10]), int(line[8]), int(line[3]), line[0], line[9], line[1], line[4]))"
   ]
  },
  {
   "cell_type": "code",
   "execution_count": 187,
   "metadata": {},
   "outputs": [
    {
     "name": "stdout",
     "output_type": "stream",
     "text": [
      "            Artist                                               Song UserFirstName UserLastName\n",
      "  Down To The Bone                                 Keep On Keepin' On        Sylvie         Cruz\n",
      "      Three Drives                                        Greece 2000        Sylvie         Cruz\n",
      " Sebastien Tellier                                          Kilometer        Sylvie         Cruz\n",
      "     Lonnie Gordon  Catch You Baby (Steve Pitron & Max Sanna Radio...        Sylvie         Cruz\n"
     ]
    }
   ],
   "source": [
    "#SELECT statement for Query2\n",
    "select_query2 = (\"\"\"\n",
    "                    SELECT artist\n",
    "                          ,song_title\n",
    "                          ,user_first_name\n",
    "                          ,user_last_name\n",
    "                    FROM  song_details_user\n",
    "                    WHERE user_id         = %s\n",
    "                    AND   session_id      = %s\n",
    "                 \"\"\")\n",
    "\n",
    "try:\n",
    "    result_set2  = session.execute(select_query2, (10, 182))\n",
    "    df = pd.DataFrame(list(result_set2), columns = ['Artist','Song','UserFirstName', 'UserLastName'])\n",
    "    print(df.to_string(index=False))\n",
    "except Exception as e:\n",
    "    print(e)\n"
   ]
  },
  {
   "cell_type": "markdown",
   "metadata": {},
   "source": [
    "#### *Query3: Give me every user name (first and last) in my music app history who*\n",
    "#### *listened to the song 'All Hands Against His Own'*\n"
   ]
  },
  {
   "cell_type": "code",
   "execution_count": 190,
   "metadata": {},
   "outputs": [],
   "source": [
    "# Create table for query 3\n",
    "query3 = (\"\"\"\n",
    "            CREATE TABLE IF NOT EXISTS user_details\n",
    "            (song_title       TEXT\n",
    "            ,user_id          INT\n",
    "            ,user_first_name  TEXT\n",
    "            ,user_last_name   TEXT\n",
    "            ,PRIMARY KEY(song_title, user_id))\n",
    "        \"\"\")\n",
    "try:\n",
    "    session.execute(query3)\n",
    "except Exception as e:\n",
    "    print(e)"
   ]
  },
  {
   "cell_type": "code",
   "execution_count": 191,
   "metadata": {},
   "outputs": [],
   "source": [
    "#Inserting data into user_details\n",
    "insert_query3 = (\"\"\" \n",
    "                INSERT INTO user_details\n",
    "                        (song_title\n",
    "                        ,user_id\n",
    "                        ,user_first_name\n",
    "                        ,user_last_name)\n",
    "                VALUES (%s, %s, %s, %s) \n",
    "                \"\"\")\n",
    "\n",
    "file = 'event_datafile_new.csv'\n",
    "\n",
    "with open(file, encoding = 'utf8') as csvfile:\n",
    "    csvreader = csv.reader(csvfile)\n",
    "    next(csvreader)\n",
    "    for line in csvreader:\n",
    "        session.execute(insert_query3, (line[9], int(line[10]), line[1], line[4]))"
   ]
  },
  {
   "cell_type": "code",
   "execution_count": 198,
   "metadata": {},
   "outputs": [
    {
     "name": "stdout",
     "output_type": "stream",
     "text": [
      "  FirstName LastName\n",
      " Jacqueline    Lynch\n",
      "      Tegan   Levine\n",
      "       Sara  Johnson\n"
     ]
    }
   ],
   "source": [
    "#SELECT statement for Query3\n",
    "select_query3 = (\"\"\"\n",
    "                    SELECT user_first_name\n",
    "                          ,user_last_name\n",
    "                    FROM  user_details\n",
    "                    WHERE song_title      = 'All Hands Against His Own'\n",
    "                 \"\"\")\n",
    "\n",
    "try:\n",
    "    result_set3 = session.execute(select_query3)\n",
    "    df = pd.DataFrame(list(result_set3), columns = ['FirstName', 'LastName'])\n",
    "    print(df.to_string(index=False))\n",
    "except Exception as e:\n",
    "    print(e)\n"
   ]
  },
  {
   "cell_type": "markdown",
   "metadata": {},
   "source": [
    "### *Drop the tables before closing out the sessions*"
   ]
  },
  {
   "cell_type": "code",
   "execution_count": 150,
   "metadata": {},
   "outputs": [
    {
     "data": {
      "text/plain": [
       "<cassandra.cluster.ResultSet at 0x7f4ebe9ab890>"
      ]
     },
     "execution_count": 150,
     "metadata": {},
     "output_type": "execute_result"
    }
   ],
   "source": [
    "session.execute(\"DROP TABLE IF EXISTS song_details \")\n",
    "session.execute(\"DROP TABLE IF EXISTS song_details_user\")\n",
    "session.execute(\"DROP TABLE IF EXISTS user_details\")"
   ]
  },
  {
   "cell_type": "markdown",
   "metadata": {},
   "source": [
    "### *Close the connection*"
   ]
  },
  {
   "cell_type": "code",
   "execution_count": 151,
   "metadata": {},
   "outputs": [],
   "source": [
    "session.shutdown()\n",
    "cluster.shutdown()"
   ]
  },
  {
   "cell_type": "code",
   "execution_count": null,
   "metadata": {},
   "outputs": [],
   "source": []
  }
 ],
 "metadata": {
  "kernelspec": {
   "display_name": "Python 3",
   "language": "python",
   "name": "python3"
  },
  "language_info": {
   "codemirror_mode": {
    "name": "ipython",
    "version": 3
   },
   "file_extension": ".py",
   "mimetype": "text/x-python",
   "name": "python",
   "nbconvert_exporter": "python",
   "pygments_lexer": "ipython3",
   "version": "3.7.4"
  }
 },
 "nbformat": 4,
 "nbformat_minor": 2
}
